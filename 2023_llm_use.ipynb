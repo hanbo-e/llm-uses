{
 "cells": [
  {
   "cell_type": "markdown",
   "id": "2d1b758a",
   "metadata": {},
   "source": [
    "# **How do people use ChatGPT?**\n",
    "Let's look at some data!\n",
    "Here are 817 answers to the following question from Andrew Ng on Linkedin \"If you're a frequent user of ChatGPT, what are you using it for?\" (retrieved on 25.04.2023)\n"
   ]
  },
  {
   "cell_type": "code",
   "execution_count": 1,
   "id": "58ad44b1",
   "metadata": {},
   "outputs": [],
   "source": [
    "#libraries I will be using\n",
    "import numpy as np\n",
    "import spacy\n",
    "import random\n",
    "import pandas as pd\n",
    "from collections import Counter\n",
    "import seaborn as sns\n",
    "import matplotlib.pyplot as plt"
   ]
  },
  {
   "cell_type": "code",
   "execution_count": 3,
   "id": "77848a16",
   "metadata": {},
   "outputs": [],
   "source": [
    "df = pd.read_csv(\"2023_gpt_comments.csv\", delimiter=';')"
   ]
  },
  {
   "cell_type": "code",
   "execution_count": 4,
   "id": "f713d572",
   "metadata": {},
   "outputs": [
    {
     "data": {
      "text/html": [
       "<div>\n",
       "<style scoped>\n",
       "    .dataframe tbody tr th:only-of-type {\n",
       "        vertical-align: middle;\n",
       "    }\n",
       "\n",
       "    .dataframe tbody tr th {\n",
       "        vertical-align: top;\n",
       "    }\n",
       "\n",
       "    .dataframe thead th {\n",
       "        text-align: right;\n",
       "    }\n",
       "</style>\n",
       "<table border=\"1\" class=\"dataframe\">\n",
       "  <thead>\n",
       "    <tr style=\"text-align: right;\">\n",
       "      <th></th>\n",
       "      <th>comment</th>\n",
       "    </tr>\n",
       "  </thead>\n",
       "  <tbody>\n",
       "    <tr>\n",
       "      <th>0</th>\n",
       "      <td>Drawing fresh images...</td>\n",
       "    </tr>\n",
       "    <tr>\n",
       "      <th>1</th>\n",
       "      <td>As a friend(I vent) :DI've also started using ...</td>\n",
       "    </tr>\n",
       "    <tr>\n",
       "      <th>2</th>\n",
       "      <td>I'm trying to get it mad by asking absurd and ...</td>\n",
       "    </tr>\n",
       "    <tr>\n",
       "      <th>3</th>\n",
       "      <td>To learn the limits of an LLM</td>\n",
       "    </tr>\n",
       "    <tr>\n",
       "      <th>4</th>\n",
       "      <td>I often use it for instant fact checking / sea...</td>\n",
       "    </tr>\n",
       "    <tr>\n",
       "      <th>5</th>\n",
       "      <td>Like... everything? 😁</td>\n",
       "    </tr>\n",
       "    <tr>\n",
       "      <th>6</th>\n",
       "      <td>Mostly for studies. But sometimes adequate sol...</td>\n",
       "    </tr>\n",
       "    <tr>\n",
       "      <th>7</th>\n",
       "      <td>To write texts with its help, most of the time...</td>\n",
       "    </tr>\n",
       "    <tr>\n",
       "      <th>8</th>\n",
       "      <td>Making books at.</td>\n",
       "    </tr>\n",
       "    <tr>\n",
       "      <th>9</th>\n",
       "      <td>To write codes, when I'm lazy to think.</td>\n",
       "    </tr>\n",
       "  </tbody>\n",
       "</table>\n",
       "</div>"
      ],
      "text/plain": [
       "                                             comment\n",
       "0                            Drawing fresh images...\n",
       "1  As a friend(I vent) :DI've also started using ...\n",
       "2  I'm trying to get it mad by asking absurd and ...\n",
       "3                      To learn the limits of an LLM\n",
       "4  I often use it for instant fact checking / sea...\n",
       "5                              Like... everything? 😁\n",
       "6  Mostly for studies. But sometimes adequate sol...\n",
       "7  To write texts with its help, most of the time...\n",
       "8                                   Making books at.\n",
       "9            To write codes, when I'm lazy to think."
      ]
     },
     "execution_count": 4,
     "metadata": {},
     "output_type": "execute_result"
    }
   ],
   "source": [
    "df.head(10)"
   ]
  },
  {
   "cell_type": "code",
   "execution_count": 5,
   "id": "cdcb5f96",
   "metadata": {},
   "outputs": [
    {
     "name": "stdout",
     "output_type": "stream",
     "text": [
      "<class 'pandas.core.frame.DataFrame'>\n",
      "RangeIndex: 817 entries, 0 to 816\n",
      "Data columns (total 1 columns):\n",
      " #   Column   Non-Null Count  Dtype \n",
      "---  ------   --------------  ----- \n",
      " 0   comment  817 non-null    object\n",
      "dtypes: object(1)\n",
      "memory usage: 6.5+ KB\n"
     ]
    }
   ],
   "source": [
    "# check for null values and datatype\n",
    "df.info()"
   ]
  },
  {
   "cell_type": "code",
   "execution_count": 6,
   "id": "7ab25e77",
   "metadata": {},
   "outputs": [
    {
     "data": {
      "text/plain": [
       "comment    0\n",
       "dtype: int64"
      ]
     },
     "execution_count": 6,
     "metadata": {},
     "output_type": "execute_result"
    }
   ],
   "source": [
    "df.isna().sum()"
   ]
  },
  {
   "cell_type": "code",
   "execution_count": 7,
   "id": "c4d56ca6",
   "metadata": {},
   "outputs": [],
   "source": [
    "df.dropna(inplace=True)\n",
    "#need to look for nans before converting to string if you want to use the isna() function"
   ]
  },
  {
   "cell_type": "code",
   "execution_count": 8,
   "id": "10800f4c",
   "metadata": {},
   "outputs": [],
   "source": [
    "#convert to type \"string\" instead of \"object\"\n",
    "df = df.astype(\"string\")"
   ]
  },
  {
   "cell_type": "code",
   "execution_count": 9,
   "id": "23253c6f",
   "metadata": {},
   "outputs": [
    {
     "name": "stdout",
     "output_type": "stream",
     "text": [
      "<class 'pandas.core.frame.DataFrame'>\n",
      "RangeIndex: 817 entries, 0 to 816\n",
      "Data columns (total 1 columns):\n",
      " #   Column   Non-Null Count  Dtype \n",
      "---  ------   --------------  ----- \n",
      " 0   comment  817 non-null    string\n",
      "dtypes: string(1)\n",
      "memory usage: 6.5 KB\n"
     ]
    }
   ],
   "source": [
    "df.info() # check type conversion and null value drop"
   ]
  },
  {
   "cell_type": "code",
   "execution_count": 12,
   "id": "34a6cb6d",
   "metadata": {},
   "outputs": [],
   "source": [
    "#!python -m spacy download en_core_web_sm"
   ]
  },
  {
   "cell_type": "code",
   "execution_count": 13,
   "id": "e01b4eb0",
   "metadata": {},
   "outputs": [],
   "source": [
    "#start spacy\n",
    "sp = spacy.load(\"en_core_web_sm\")\n",
    "#concatenate all comments into one big text object\n",
    "all_text = df[\"comment\"].str.cat(sep=\" \")\n",
    "#create spacy doc object that contains tokens and POS tags\n",
    "doc = sp(all_text)"
   ]
  },
  {
   "cell_type": "code",
   "execution_count": 14,
   "id": "4061760c",
   "metadata": {},
   "outputs": [
    {
     "data": {
      "text/plain": [
       "[('code', 254),\n",
       " ('use', 175),\n",
       " ('chatgpt', 120),\n",
       " ('write', 110),\n",
       " ('ask', 93),\n",
       " ('help', 82),\n",
       " ('time', 81),\n",
       " ('learn', 76),\n",
       " ('question', 73),\n",
       " ('find', 73),\n",
       " ('idea', 70),\n",
       " ('like', 69),\n",
       " ('answer', 68),\n",
       " ('research', 58),\n",
       " ('work', 56),\n",
       " ('search', 54),\n",
       " ('good', 51),\n",
       " ('ai', 51),\n",
       " ('new', 49),\n",
       " ('generate', 46)]"
      ]
     },
     "execution_count": 14,
     "metadata": {},
     "output_type": "execute_result"
    }
   ],
   "source": [
    "#get word frequencies and show top 20, ignore stopwords, punctuation, and whitespace, normalize to lowercase\n",
    "words = [token.lemma_.lower() for token in doc if not token.is_stop and not token.is_punct and token.lemma_.strip()]\n",
    "word_freq = Counter(words)\n",
    "most_common_lemmas = word_freq.most_common(20)\n",
    "most_common_lemmas\n"
   ]
  },
  {
   "cell_type": "code",
   "execution_count": 15,
   "id": "f63d54bd",
   "metadata": {},
   "outputs": [
    {
     "name": "stdout",
     "output_type": "stream",
     "text": [
      "Total count: 9234\n",
      "Relative frequencies:\n",
      "[('code', 0.027507039202945636), ('use', 0.018951700238249946), ('chatgpt', 0.01299545159194282), ('write', 0.011912497292614252), ('ask', 0.010071474983755685), ('help', 0.008880225254494261), ('time', 0.008771929824561403), ('learn', 0.00823045267489712), ('question', 0.00790556638509855), ('find', 0.00790556638509855), ('idea', 0.007580680095299978), ('like', 0.007472384665367121), ('answer', 0.007364089235434265), ('research', 0.006281134936105696), ('work', 0.006064544076239983), ('search', 0.005847953216374269), ('good', 0.005523066926575698), ('ai', 0.005523066926575698), ('new', 0.005306476066709985), ('generate', 0.004981589776911414)]\n"
     ]
    }
   ],
   "source": [
    "#get relative frequencies of 20 most common words excluding stopwords\n",
    "words = [token.lemma_.lower() for token in doc if not token.is_stop and not token.is_punct and token.lemma_.strip()]\n",
    "word_freq = Counter(words)\n",
    "total_count = sum(word_freq.values())\n",
    "\n",
    "relative_freq = [(word, count / total_count) for word, count in word_freq.most_common(20)]\n",
    "\n",
    "print(f\"Total count: {total_count}\\nRelative frequencies:\\n{relative_freq}\")\n"
   ]
  },
  {
   "cell_type": "code",
   "execution_count": 16,
   "id": "fb0fd092",
   "metadata": {},
   "outputs": [
    {
     "data": {
      "image/png": "[encoded data removed]",
      "text/plain": [
       "<Figure size 1000x600 with 1 Axes>"
      ]
     },
     "metadata": {},
     "output_type": "display_data"
    }
   ],
   "source": [
    "# Extract the words and their relative frequencies from the list of tuples\n",
    "freq_words = [word for word, _ in relative_freq]\n",
    "frequencies = [freq for _, freq in relative_freq]\n",
    "\n",
    "# Convert the relative frequencies to percentages\n",
    "percentages = [freq * 100 for freq in frequencies]\n",
    "\n",
    "# Generate the chart\n",
    "chart = sns.barplot(x=percentages, y=freq_words)\n",
    "plt.xlabel('Relative Frequency (%)')\n",
    "plt.ylabel('Lemma')\n",
    "plt.title('Top Lemmas')\n",
    "\n",
    "# Adjust figure size and layout\n",
    "chart.figure.set_size_inches(10, 6)  # Set the figure size as needed\n",
    "plt.tight_layout()  # Adjust spacing and margins\n",
    "\n",
    "# Save the chart as a file\n",
    "chart.figure.savefig('top_lemmas.png')\n"
   ]
  },
  {
   "cell_type": "code",
   "execution_count": 17,
   "id": "10ba85c4",
   "metadata": {},
   "outputs": [
    {
     "data": {
      "text/plain": [
       "[('code', 144),\n",
       " ('time', 71),\n",
       " ('questions', 62),\n",
       " ('chatgpt', 62),\n",
       " ('ideas', 53),\n",
       " ('research', 48),\n",
       " ('things', 41),\n",
       " ('answers', 37),\n",
       " ('content', 35),\n",
       " ('search', 34),\n",
       " ('information', 33),\n",
       " ('text', 33),\n",
       " ('topics', 32),\n",
       " ('writing', 32),\n",
       " ('concepts', 28),\n",
       " ('learning', 27),\n",
       " ('data', 27),\n",
       " ('knowledge', 24),\n",
       " ('emails', 23),\n",
       " ('lot', 22)]"
      ]
     },
     "execution_count": 17,
     "metadata": {},
     "output_type": "execute_result"
    }
   ],
   "source": [
    "#get 20 most frequent nouns in contrast to 20 most frequent lemmas\n",
    "# Create a Matcher pattern for nouns\n",
    "matcher = spacy.matcher.Matcher(sp.vocab)\n",
    "pattern = [{\"POS\": \"NOUN\", \"OP\": \"+\"}]\n",
    "matcher.add(\"NounPhrase\", [pattern])\n",
    "\n",
    "# Extract nouns from the 'doc' object\n",
    "matches = matcher(doc, as_spans=True)\n",
    "nouns = []\n",
    "for span in matches:\n",
    "    nouns.append(span.text.lower())\n",
    "    phrase_freq = Counter(nouns)\n",
    "frequent_nouns = phrase_freq.most_common(20)\n",
    "frequent_nouns"
   ]
  },
  {
   "cell_type": "code",
   "execution_count": 18,
   "id": "5aa0dc79",
   "metadata": {},
   "outputs": [
    {
     "name": "stdout",
     "output_type": "stream",
     "text": [
      "[('code', 144, 0.028346456692913385), ('time', 71, 0.013976377952755905), ('questions', 62, 0.012204724409448819), ('chatgpt', 62, 0.012204724409448819), ('ideas', 53, 0.010433070866141732), ('research', 48, 0.009448818897637795), ('things', 41, 0.008070866141732283), ('answers', 37, 0.007283464566929134), ('content', 35, 0.006889763779527559), ('search', 34, 0.0066929133858267716), ('information', 33, 0.006496062992125984), ('text', 33, 0.006496062992125984), ('topics', 32, 0.006299212598425197), ('writing', 32, 0.006299212598425197), ('concepts', 28, 0.005511811023622047), ('learning', 27, 0.00531496062992126), ('data', 27, 0.00531496062992126), ('knowledge', 24, 0.004724409448818898), ('emails', 23, 0.00452755905511811), ('lot', 22, 0.004330708661417323)]\n"
     ]
    }
   ],
   "source": [
    "# Calculate the total count of nouns\n",
    "#noun_freq = Counter(nouns)\n",
    "total_count = sum(phrase_freq.values())\n",
    "\n",
    "# Calculate the relative frequencies of nouns\n",
    "noun_rel_freq = {noun: count / total_count for noun, count in phrase_freq.items()}\n",
    "\n",
    "# Get the 30 most frequent nouns with their relative frequencies\n",
    "most_common_nouns = phrase_freq.most_common(20)\n",
    "most_common_nouns_rel_freq = [(noun, count, noun_rel_freq[noun]) for noun, count in most_common_nouns]\n",
    "\n",
    "print(most_common_nouns_rel_freq)"
   ]
  },
  {
   "cell_type": "code",
   "execution_count": 19,
   "id": "d016c6be",
   "metadata": {},
   "outputs": [
    {
     "data": {
      "image/png": "[encoded data removed]",
      "text/plain": [
       "<Figure size 1000x600 with 1 Axes>"
      ]
     },
     "metadata": {},
     "output_type": "display_data"
    }
   ],
   "source": [
    "# Extract the nouns, counts, and relative frequencies from the list of tuples\n",
    "nouns = [item[0] for item in most_common_nouns_rel_freq]\n",
    "relative_frequencies = [item[2] for item in most_common_nouns_rel_freq]\n",
    "\n",
    "# Convert relative frequencies to percentages\n",
    "relative_frequencies_percent = [freq * 100 for freq in relative_frequencies]\n",
    "\n",
    "# Create a horizontal bar plot of the relative frequencies as percentages\n",
    "#sns.set(style=\"whitegrid\")\n",
    "#plt.figure(figsize=(10, 12))\n",
    "chart = sns.barplot(x=relative_frequencies_percent, y=nouns, palette=\"viridis\")\n",
    "plt.title(\"Relative Frequencies of Most Common Nouns\")\n",
    "plt.xlabel(\"Relative Frequency (%)\")\n",
    "plt.ylabel(\"Nouns\")\n",
    "#plt.tight_layout()\n",
    "#plt.show()\n",
    "\n",
    "###\n",
    "# Adjust figure size and layout\n",
    "chart.figure.set_size_inches(10, 6)  # Set the figure size as needed\n",
    "plt.tight_layout()  # Adjust spacing and margins\n",
    "\n",
    "# Save the chart as a file\n",
    "chart.figure.savefig('top_nouns.png')\n"
   ]
  },
  {
   "cell_type": "markdown",
   "id": "5cf5028b",
   "metadata": {},
   "source": [
    "The list of nouns is already looking more informative, but I want some context too\n",
    "For the 8 nouns that I select as subjectivly being the most informative, lets extract them with their two\n",
    "immediately preceding words and immediatly following words.\n",
    "\n",
    "Let's save this information in a data frame.\n",
    "\n",
    "Let's present some of it."
   ]
  },
  {
   "cell_type": "code",
   "execution_count": 20,
   "id": "cd50497f",
   "metadata": {},
   "outputs": [],
   "source": [
    "informative_nouns = [\"code\", \"ideas\", \"research\", \"content\", \"search\", \"writing\", \"learning\", \"emails\"]"
   ]
  },
  {
   "cell_type": "code",
   "execution_count": 21,
   "id": "07ea04c0",
   "metadata": {},
   "outputs": [],
   "source": [
    "def extract_phrases(word_list, doc):\n",
    "    word_contexts = []\n",
    "    for word in word_list:\n",
    "        matcher = spacy.matcher.Matcher(sp.vocab)\n",
    "        pattern = [\n",
    "            {},\n",
    "            {},\n",
    "            {\"LOWER\": word},\n",
    "            {},\n",
    "            {},\n",
    "        ]\n",
    "        matcher.add(\"word_pattern\", [pattern])\n",
    "        # Extract matches from the 'doc' object\n",
    "        matches = matcher(doc, as_spans=True)\n",
    "        # Extract phrases \"a lot of\" + next word\n",
    "        word_phrases = []\n",
    "        for span in matches:\n",
    "            word_phrases.append(span.text.lower()) \n",
    "        word_contexts.append(word_phrases)\n",
    "    return word_contexts\n",
    "    "
   ]
  },
  {
   "cell_type": "code",
   "execution_count": 22,
   "id": "31136ebd",
   "metadata": {},
   "outputs": [],
   "source": [
    "my_contexts = extract_phrases(informative_nouns, doc)"
   ]
  },
  {
   "cell_type": "code",
   "execution_count": 23,
   "id": "7d6ce654",
   "metadata": {},
   "outputs": [],
   "source": [
    "#convert the list of lists into a df\n",
    "#make all lists same length\n",
    "data = {}\n",
    "max_length = max(len(lst) for lst in my_contexts)\n",
    "for i, column_name in enumerate(informative_nouns):\n",
    "    values = my_contexts[i] + [None] * (max_length - len(my_contexts[i]))\n",
    "    data[column_name] = values\n",
    "df_contexts = pd.DataFrame(data)"
   ]
  },
  {
   "cell_type": "code",
   "execution_count": 24,
   "id": "ab6348de",
   "metadata": {},
   "outputs": [
    {
     "data": {
      "text/html": [
       "<div>\n",
       "<style scoped>\n",
       "    .dataframe tbody tr th:only-of-type {\n",
       "        vertical-align: middle;\n",
       "    }\n",
       "\n",
       "    .dataframe tbody tr th {\n",
       "        vertical-align: top;\n",
       "    }\n",
       "\n",
       "    .dataframe thead th {\n",
       "        text-align: right;\n",
       "    }\n",
       "</style>\n",
       "<table border=\"1\" class=\"dataframe\">\n",
       "  <thead>\n",
       "    <tr style=\"text-align: right;\">\n",
       "      <th></th>\n",
       "      <th>code</th>\n",
       "      <th>ideas</th>\n",
       "      <th>research</th>\n",
       "      <th>content</th>\n",
       "      <th>search</th>\n",
       "      <th>writing</th>\n",
       "      <th>learning</th>\n",
       "      <th>emails</th>\n",
       "    </tr>\n",
       "  </thead>\n",
       "  <tbody>\n",
       "    <tr>\n",
       "      <th>0</th>\n",
       "      <td>for source code. they</td>\n",
       "      <td>possible other ideas an theories</td>\n",
       "      <td>it for research and sample</td>\n",
       "      <td>developing, content creation.</td>\n",
       "      <td>checking / search engine in</td>\n",
       "      <td>sometimes writing out prose</td>\n",
       "      <td>by machine learning will end</td>\n",
       "      <td>in customer emails… addresses</td>\n",
       "    </tr>\n",
       "    <tr>\n",
       "      <th>1</th>\n",
       "      <td>of working code that ai</td>\n",
       "      <td>get the ideas of my</td>\n",
       "      <td>the bugs research, and</td>\n",
       "      <td>about creating content, although</td>\n",
       "      <td>, that search when we</td>\n",
       "      <td>. for writing codes+ understanding</td>\n",
       "      <td>processes in learning, especially</td>\n",
       "      <td>to rewrite emails and documents</td>\n",
       "    </tr>\n",
       "    <tr>\n",
       "      <th>2</th>\n",
       "      <td>and sample code generation.</td>\n",
       "      <td>some useful ideas about demonstrations</td>\n",
       "      <td>the data+writing research paper i</td>\n",
       "      <td>and business content writing using</td>\n",
       "      <td>than a search engine,</td>\n",
       "      <td>, improving writing style 😁</td>\n",
       "      <td>at self learning for 6</td>\n",
       "      <td>write short emails for mundane</td>\n",
       "    </tr>\n",
       "    <tr>\n",
       "      <th>3</th>\n",
       "      <td>of your code and also</td>\n",
       "      <td>and forecast ideas, get</td>\n",
       "      <td>dates in research, but</td>\n",
       "      <td>-form content, but</td>\n",
       "      <td>. to search for answers</td>\n",
       "      <td>it. writing aid two</td>\n",
       "      <td>on machine learning delivered at</td>\n",
       "      <td>.  emails, texts</td>\n",
       "    </tr>\n",
       "    <tr>\n",
       "      <th>4</th>\n",
       "      <td>such as code or commands</td>\n",
       "      <td>blog post ideas and outlines</td>\n",
       "      <td>lot. research and comparisons</td>\n",
       "      <td>drafting initial content, framing</td>\n",
       "      <td>like a search engine which</td>\n",
       "      <td>use for writing codes which</td>\n",
       "      <td>google searches learning  how</td>\n",
       "      <td>find writing emails anxiety inducing</td>\n",
       "    </tr>\n",
       "    <tr>\n",
       "      <th>5</th>\n",
       "      <td>mind into code reviewing articles</td>\n",
       "      <td>, have ideas, and</td>\n",
       "      <td>in my research approach,</td>\n",
       "      <td>it for content recommendations,</td>\n",
       "      <td>what to search for.</td>\n",
       "      <td>although not writing it in</td>\n",
       "      <td>you are learning a language</td>\n",
       "      <td>official daily emails. i</td>\n",
       "    </tr>\n",
       "    <tr>\n",
       "      <th>6</th>\n",
       "      <td>get the code in python</td>\n",
       "      <td>a few ideas and then</td>\n",
       "      <td>to my research approach or</td>\n",
       "      <td>planning, content generating i</td>\n",
       "      <td>unlike google search! recipes</td>\n",
       "      <td>assistence when writing unit tests</td>\n",
       "      <td>'s still learning and if</td>\n",
       "      <td>text and emails rewording and</td>\n",
       "    </tr>\n",
       "    <tr>\n",
       "      <th>7</th>\n",
       "      <td>write the code from the</td>\n",
       "      <td>articulate my ideas and get</td>\n",
       "      <td>impossible to research this with</td>\n",
       "      <td>of repetitive content. explaining</td>\n",
       "      <td>my google search, stackoverflow</td>\n",
       "      <td>) after writing a difficult</td>\n",
       "      <td>in deep learning tools and</td>\n",
       "      <td>have professional emails. when</td>\n",
       "    </tr>\n",
       "    <tr>\n",
       "      <th>8</th>\n",
       "      <td>improve the code. i</td>\n",
       "      <td>i through ideas against it</td>\n",
       "      <td>great for research coding and</td>\n",
       "      <td>preparing lecture content ongoing project</td>\n",
       "      <td>as a search engine too</td>\n",
       "      <td>everything involves writing and thinking</td>\n",
       "      <td>up the learning process.</td>\n",
       "      <td>write better emails, answer</td>\n",
       "    </tr>\n",
       "    <tr>\n",
       "      <th>9</th>\n",
       "      <td>explain difficult code blocks in</td>\n",
       "      <td>for creative ideas. i</td>\n",
       "      <td>time in research and rewriting</td>\n",
       "      <td>to create content and edit</td>\n",
       "      <td>task to search on our</td>\n",
       "      <td>improving my writing i tried</td>\n",
       "      <td>process. learning english i</td>\n",
       "      <td>reviews writing emails 😅 the</td>\n",
       "    </tr>\n",
       "  </tbody>\n",
       "</table>\n",
       "</div>"
      ],
      "text/plain": [
       "                                code                                   ideas  \\\n",
       "0              for source code. they        possible other ideas an theories   \n",
       "1            of working code that ai                     get the ideas of my   \n",
       "2        and sample code generation.  some useful ideas about demonstrations   \n",
       "3              of your code and also                 and forecast ideas, get   \n",
       "4           such as code or commands            blog post ideas and outlines   \n",
       "5  mind into code reviewing articles                       , have ideas, and   \n",
       "6             get the code in python                    a few ideas and then   \n",
       "7            write the code from the             articulate my ideas and get   \n",
       "8                improve the code. i              i through ideas against it   \n",
       "9   explain difficult code blocks in                   for creative ideas. i   \n",
       "\n",
       "                            research  \\\n",
       "0         it for research and sample   \n",
       "1             the bugs research, and   \n",
       "2  the data+writing research paper i   \n",
       "3             dates in research, but   \n",
       "4      lot. research and comparisons   \n",
       "5           in my research approach,   \n",
       "6         to my research approach or   \n",
       "7   impossible to research this with   \n",
       "8      great for research coding and   \n",
       "9     time in research and rewriting   \n",
       "\n",
       "                                     content                           search  \\\n",
       "0              developing, content creation.      checking / search engine in   \n",
       "1           about creating content, although            , that search when we   \n",
       "2         and business content writing using            than a search engine,   \n",
       "3                         -form content, but          . to search for answers   \n",
       "4          drafting initial content, framing       like a search engine which   \n",
       "5            it for content recommendations,              what to search for.   \n",
       "6             planning, content generating i    unlike google search! recipes   \n",
       "7          of repetitive content. explaining  my google search, stackoverflow   \n",
       "8  preparing lecture content ongoing project           as a search engine too   \n",
       "9                 to create content and edit            task to search on our   \n",
       "\n",
       "                                    writing  \\\n",
       "0               sometimes writing out prose   \n",
       "1        . for writing codes+ understanding   \n",
       "2               , improving writing style 😁   \n",
       "3                       it. writing aid two   \n",
       "4               use for writing codes which   \n",
       "5                although not writing it in   \n",
       "6        assistence when writing unit tests   \n",
       "7               ) after writing a difficult   \n",
       "8  everything involves writing and thinking   \n",
       "9              improving my writing i tried   \n",
       "\n",
       "                            learning                                emails  \n",
       "0       by machine learning will end         in customer emails… addresses  \n",
       "1  processes in learning, especially       to rewrite emails and documents  \n",
       "2             at self learning for 6        write short emails for mundane  \n",
       "3   on machine learning delivered at                      .  emails, texts  \n",
       "4      google searches learning  how  find writing emails anxiety inducing  \n",
       "5        you are learning a language              official daily emails. i  \n",
       "6           's still learning and if         text and emails rewording and  \n",
       "7         in deep learning tools and        have professional emails. when  \n",
       "8           up the learning process.           write better emails, answer  \n",
       "9        process. learning english i          reviews writing emails 😅 the  "
      ]
     },
     "execution_count": 24,
     "metadata": {},
     "output_type": "execute_result"
    }
   ],
   "source": [
    "df_contexts.head(10)"
   ]
  },
  {
   "cell_type": "code",
   "execution_count": null,
   "id": "06f078e7",
   "metadata": {},
   "outputs": [],
   "source": [
    "# It looks like ppl use it alot for explaining, for information search, idea generation, coding"
   ]
  },
  {
   "cell_type": "code",
   "execution_count": null,
   "id": "1e0846da",
   "metadata": {},
   "outputs": [],
   "source": [
    "#get 30 most frequent adjective noun phrases\n",
    "from spacy.matcher import Matcher\n",
    "\n",
    "matcher = Matcher(sp.vocab)\n",
    "pattern = [{\"POS\": \"ADJ\"}, {\"POS\": \"NOUN\"}]\n",
    "matcher.add(\"ADJ_PHRASE\", [pattern])\n",
    "\n",
    "matches = matcher(doc, as_spans=True)\n",
    "phrases = []\n",
    "for span in matches:\n",
    "    phrases.append(span.text.lower())\n",
    "    phrase_freq = Counter(phrases)\n",
    "\n",
    "phrase_freq.most_common(30)"
   ]
  },
  {
   "cell_type": "code",
   "execution_count": null,
   "id": "655ec41e",
   "metadata": {},
   "outputs": [],
   "source": [
    "from spacy.matcher import Matcher\n",
    "\n",
    "matcher = Matcher(sp.vocab)\n",
    "# Define a pattern to match verb-preposition phrases followed by two words\n",
    "#pattern = [{\"POS\": \"VERB\"}, {\"POS\": \"ADP\"}, {\"POS\": \"NOUN\"}, {\"POS\": \"NOUN\"}]\n",
    "pattern = [{\"POS\": \"VERB\"}, {\"POS\": \"ADP\"}]\n",
    "matcher.add(\"VERB_PREP_PHRASE\", [pattern])\n",
    "\n",
    "matches = matcher(doc, as_spans=True)\n",
    "phrases = []\n",
    "for span in matches:\n",
    "    phrases.append(span.text.lower())\n",
    "    phrase_freq = Counter(phrases)\n",
    "\n",
    "phrase_freq.most_common(30)"
   ]
  },
  {
   "cell_type": "code",
   "execution_count": null,
   "id": "5fb1478b",
   "metadata": {},
   "outputs": [],
   "source": [
    "from spacy.matcher import PhraseMatcher\n",
    "\n",
    "my_colloc = []\n",
    "matcher = PhraseMatcher(sp.vocab, attr=\"LOWER\")\n",
    "# The attr above ensures all instances are converted to lower-case so the search is case-insensitive\n",
    "\n",
    "pattern = [sp.make_doc(\"chat\")]\n",
    "matcher.add(\"use it for\", pattern)\n",
    "matches = matcher(doc)\n",
    "\n",
    "for match_id, start, end in matches:\n",
    "    span = doc[start - 10 : end + 10]\n",
    "    my_colloc.extend(\n",
    "        [\n",
    "            token.lemma_.lower()\n",
    "            for token in span\n",
    "            if not token.is_punct and not token.is_stop\n",
    "        ]\n",
    "    )\n",
    "\n",
    "Counter(my_colloc).most_common(20)"
   ]
  },
  {
   "cell_type": "code",
   "execution_count": null,
   "id": "7f10f2c6",
   "metadata": {},
   "outputs": [],
   "source": [
    "import gensim"
   ]
  },
  {
   "cell_type": "code",
   "execution_count": null,
   "id": "66acfe13",
   "metadata": {},
   "outputs": [],
   "source": [
    "# Load the spacy model\n",
    "nlp = spacy.load(\"en_core_web_sm\")"
   ]
  },
  {
   "cell_type": "code",
   "execution_count": null,
   "id": "0ebc50cb",
   "metadata": {},
   "outputs": [],
   "source": [
    "# Clean the comments by removing stop words and lemmatizing\n",
    "cleaned_comments = []\n",
    "for comment in df[\"comments\"]:\n",
    "    doc = nlp(comment)\n",
    "    cleaned_comment = \" \".join(\n",
    "        [token.lemma_ for token in doc if not token.is_stop and token.is_alpha]\n",
    "    )\n",
    "    cleaned_comments.append(cleaned_comment)\n"
   ]
  },
  {
   "cell_type": "code",
   "execution_count": null,
   "id": "d565c3a2",
   "metadata": {},
   "outputs": [],
   "source": [
    "# Create a gensim dictionary and corpus\n",
    "dictionary = gensim.corpora.Dictionary([comment.split() for comment in cleaned_comments])\n",
    "corpus = [dictionary.doc2bow(comment.split()) for comment in cleaned_comments]\n"
   ]
  },
  {
   "cell_type": "code",
   "execution_count": null,
   "id": "f502de2b",
   "metadata": {},
   "outputs": [],
   "source": [
    "# Train the LDA model\n",
    "lda_model = gensim.models.ldamodel.LdaModel(\n",
    "    corpus=corpus, id2word=dictionary, num_topics=3, random_state=42\n",
    ")"
   ]
  },
  {
   "cell_type": "code",
   "execution_count": null,
   "id": "357e23b9",
   "metadata": {},
   "outputs": [],
   "source": [
    "# Print the topics and their top words\n",
    "for idx, topic in lda_model.print_topics(-1):\n",
    "    print(\"Topic: {}\\nWords: {}\".format(idx, topic))"
   ]
  }
 ],
 "metadata": {
  "kernelspec": {
   "display_name": "Python 3 (ipykernel)",
   "language": "python",
   "name": "python3"
  },
  "language_info": {
   "codemirror_mode": {
    "name": "ipython",
    "version": 3
   },
   "file_extension": ".py",
   "mimetype": "text/x-python",
   "name": "python",
   "nbconvert_exporter": "python",
   "pygments_lexer": "ipython3",
   "version": "3.9.13"
  }
 },
 "nbformat": 4,
 "nbformat_minor": 5
}
